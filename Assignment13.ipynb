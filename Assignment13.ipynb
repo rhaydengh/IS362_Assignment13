{
 "cells": [
  {
   "cell_type": "markdown",
   "metadata": {},
   "source": [
    "## Assignment 13\n",
    "\n",
    "### Using the Mushrooms Dataset found here: https://archive.ics.uci.edu/ml/datasets/Mushroom\n",
    "- Create a pandas DataFrame with a subset of the columns in the dataset. Include the column that indicates edible or poisonous, and the odor column, and at least one other column of your choosing.\n",
    "- Add meaningful names for each column.\n",
    "- Replace the codes used in the data with numeric values.\n",
    "- Perform exploratory data analysis: show the distribution of data for each of the columns you selected, and show scatterplots for edible/poisonous vs. odor as well as the other column that you selected.\n",
    "- Include some text describing your preliminary conclusions about whether either of the other columns could be helpful in predicting if a specific mushroom is edible or poisonous."
   ]
  },
  {
   "cell_type": "code",
   "execution_count": 53,
   "metadata": {},
   "outputs": [
    {
     "data": {
      "text/html": [
       "<div>\n",
       "<style>\n",
       "    .dataframe thead tr:only-child th {\n",
       "        text-align: right;\n",
       "    }\n",
       "\n",
       "    .dataframe thead th {\n",
       "        text-align: left;\n",
       "    }\n",
       "\n",
       "    .dataframe tbody tr th {\n",
       "        vertical-align: top;\n",
       "    }\n",
       "</style>\n",
       "<table border=\"1\" class=\"dataframe\">\n",
       "  <thead>\n",
       "    <tr style=\"text-align: right;\">\n",
       "      <th></th>\n",
       "      <th>Edibility</th>\n",
       "      <th>CapSurface</th>\n",
       "      <th>Odor</th>\n",
       "    </tr>\n",
       "  </thead>\n",
       "  <tbody>\n",
       "    <tr>\n",
       "      <th>0</th>\n",
       "      <td>p</td>\n",
       "      <td>s</td>\n",
       "      <td>p</td>\n",
       "    </tr>\n",
       "    <tr>\n",
       "      <th>1</th>\n",
       "      <td>e</td>\n",
       "      <td>s</td>\n",
       "      <td>a</td>\n",
       "    </tr>\n",
       "    <tr>\n",
       "      <th>2</th>\n",
       "      <td>e</td>\n",
       "      <td>s</td>\n",
       "      <td>l</td>\n",
       "    </tr>\n",
       "    <tr>\n",
       "      <th>3</th>\n",
       "      <td>p</td>\n",
       "      <td>y</td>\n",
       "      <td>p</td>\n",
       "    </tr>\n",
       "    <tr>\n",
       "      <th>4</th>\n",
       "      <td>e</td>\n",
       "      <td>s</td>\n",
       "      <td>n</td>\n",
       "    </tr>\n",
       "  </tbody>\n",
       "</table>\n",
       "</div>"
      ],
      "text/plain": [
       "  Edibility CapSurface Odor\n",
       "0         p          s    p\n",
       "1         e          s    a\n",
       "2         e          s    l\n",
       "3         p          y    p\n",
       "4         e          s    n"
      ]
     },
     "execution_count": 53,
     "metadata": {},
     "output_type": "execute_result"
    }
   ],
   "source": [
    "#Read in data from the Mushrooms Dataset\n",
    "import pandas as pd\n",
    "mushrooms = pd.read_csv('https://archive.ics.uci.edu/ml/machine-learning-databases/mushroom/agaricus-lepiota.data', usecols = [0,2,5], names = [\"Edibility\", \"CapSurface\", \"Odor\"])\n",
    "mushrooms.head()"
   ]
  },
  {
   "cell_type": "code",
   "execution_count": 54,
   "metadata": {},
   "outputs": [
    {
     "data": {
      "text/html": [
       "<div>\n",
       "<style>\n",
       "    .dataframe thead tr:only-child th {\n",
       "        text-align: right;\n",
       "    }\n",
       "\n",
       "    .dataframe thead th {\n",
       "        text-align: left;\n",
       "    }\n",
       "\n",
       "    .dataframe tbody tr th {\n",
       "        vertical-align: top;\n",
       "    }\n",
       "</style>\n",
       "<table border=\"1\" class=\"dataframe\">\n",
       "  <thead>\n",
       "    <tr style=\"text-align: right;\">\n",
       "      <th></th>\n",
       "      <th>Edibility</th>\n",
       "      <th>CapSurface</th>\n",
       "      <th>Odor</th>\n",
       "    </tr>\n",
       "  </thead>\n",
       "  <tbody>\n",
       "    <tr>\n",
       "      <th>0</th>\n",
       "      <td>0</td>\n",
       "      <td>3</td>\n",
       "      <td>7</td>\n",
       "    </tr>\n",
       "    <tr>\n",
       "      <th>1</th>\n",
       "      <td>1</td>\n",
       "      <td>3</td>\n",
       "      <td>0</td>\n",
       "    </tr>\n",
       "    <tr>\n",
       "      <th>2</th>\n",
       "      <td>1</td>\n",
       "      <td>3</td>\n",
       "      <td>1</td>\n",
       "    </tr>\n",
       "    <tr>\n",
       "      <th>3</th>\n",
       "      <td>0</td>\n",
       "      <td>2</td>\n",
       "      <td>7</td>\n",
       "    </tr>\n",
       "    <tr>\n",
       "      <th>4</th>\n",
       "      <td>1</td>\n",
       "      <td>3</td>\n",
       "      <td>6</td>\n",
       "    </tr>\n",
       "  </tbody>\n",
       "</table>\n",
       "</div>"
      ],
      "text/plain": [
       "   Edibility  CapSurface  Odor\n",
       "0          0           3     7\n",
       "1          1           3     0\n",
       "2          1           3     1\n",
       "3          0           2     7\n",
       "4          1           3     6"
      ]
     },
     "execution_count": 54,
     "metadata": {},
     "output_type": "execute_result"
    }
   ],
   "source": [
    "#Rename columns and replace string values with numeric values\n",
    "mushrooms[\"Edibility\"].replace(['p','e'], ([0,1]), inplace=True)\n",
    "mushrooms[\"CapSurface\"].replace(['f','g','y','s'], ([0,1,2,3]), inplace=True)\n",
    "mushrooms[\"Odor\"].replace(['a','l','c','y','f','m','n','p','s'], ([0,1,2,3,4,5,6,7,8]), inplace=True)\n",
    "mushrooms.head()"
   ]
  },
  {
   "cell_type": "markdown",
   "metadata": {},
   "source": [
    "### This plot shows the Edibility and Odor data.\n",
    "### This shows that Odor is really indicative of whether or not a mushroom is poisonous or edible. Mushrooms with the Almond and Anise odors are always poisonous. Mushrooms with no odor can be potentially poisonous, but some are also edible."
   ]
  },
  {
   "cell_type": "code",
   "execution_count": 55,
   "metadata": {},
   "outputs": [
    {
     "data": {
      "text/plain": [
       "Text(0,0.5,'Odor')"
      ]
     },
     "execution_count": 55,
     "metadata": {},
     "output_type": "execute_result"
    },
    {
     "data": {
      "image/png": "iVBORw0KGgoAAAANSUhEUgAAAXMAAAEBCAYAAACKUEVYAAAABHNCSVQICAgIfAhkiAAAAAlwSFlz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\n5pJUgP8DwE3X+fltfigAAAAASUVORK5CYII=\n",
      "text/plain": [
       "<matplotlib.figure.Figure at 0xcc1c470>"
      ]
     },
     "metadata": {},
     "output_type": "display_data"
    }
   ],
   "source": [
    "#plot data in a scatterplot\n",
    "import matplotlib.pyplot as plt\n",
    "%matplotlib inline\n",
    "plt.scatter(mushrooms.Edibility, mushrooms.Odor)\n",
    "plt.xlabel(\"Edibility (0=Poisonous, 1=Edible)\")\n",
    "plt.ylabel(\"Odor\")"
   ]
  },
  {
   "cell_type": "markdown",
   "metadata": {},
   "source": [
    "### This plot shows the Edibility and Cap Surface data.\n",
    "### This shows that Cap Surface is not very indicative of whether or not a mushroom is poisonous. Nearly every Cap Surface can be both poisonous and edible. However, it does show that ones with grooves are always poisonous."
   ]
  },
  {
   "cell_type": "code",
   "execution_count": 56,
   "metadata": {},
   "outputs": [
    {
     "data": {
      "text/plain": [
       "Text(0,0.5,'Cap Surface')"
      ]
     },
     "execution_count": 56,
     "metadata": {},
     "output_type": "execute_result"
    },
    {
     "data": {
      "image/png": "iVBORw0KGgoAAAANSUhEUgAAAXsAAAEBCAYAAACZhwWsAAAABHNCSVQICAgIfAhkiAAAAAlwSFlz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\n1ACGvSQ1gGEvSQ1g2EtSAxj2ktQA/x/ONd7U2CJ+/gAAAABJRU5ErkJggg==\n",
      "text/plain": [
       "<matplotlib.figure.Figure at 0xcef8748>"
      ]
     },
     "metadata": {},
     "output_type": "display_data"
    }
   ],
   "source": [
    "import matplotlib.pyplot as plt\n",
    "%matplotlib inline\n",
    "plt.scatter(mushrooms.Edibility, mushrooms.CapSurface)\n",
    "plt.xlabel(\"Edibility (0=Poisonous, 1=Edible)\")\n",
    "plt.ylabel(\"Cap Surface\")"
   ]
  }
